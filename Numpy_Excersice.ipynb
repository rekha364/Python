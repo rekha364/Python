{
  "nbformat": 4,
  "nbformat_minor": 0,
  "metadata": {
    "colab": {
      "name": "Numpy Excersice.ipynb",
      "provenance": [],
      "collapsed_sections": [],
      "include_colab_link": true
    },
    "kernelspec": {
      "name": "python3",
      "display_name": "Python 3"
    }
  },
  "cells": [
    {
      "cell_type": "markdown",
      "metadata": {
        "id": "view-in-github",
        "colab_type": "text"
      },
      "source": [
        "<a href=\"https://colab.research.google.com/github/rekha364/Python/blob/master/Numpy_Excersice.ipynb\" target=\"_parent\"><img src=\"https://colab.research.google.com/assets/colab-badge.svg\" alt=\"Open In Colab\"/></a>"
      ]
    },
    {
      "cell_type": "code",
      "metadata": {
        "id": "cMCVFBbRXHi9",
        "colab_type": "code",
        "colab": {}
      },
      "source": [
        "import numpy as np"
      ],
      "execution_count": null,
      "outputs": []
    },
    {
      "cell_type": "code",
      "metadata": {
        "id": "BE2p9wFFX883",
        "colab_type": "code",
        "colab": {
          "base_uri": "https://localhost:8080/",
          "height": 34
        },
        "outputId": "a55339c9-50b4-4ab8-8554-41f1a6ebb4b9"
      },
      "source": [
        "#1-d list \n",
        "arr_1d= np.array([1,2,3,4,5])\n",
        "print (arr_1d)"
      ],
      "execution_count": null,
      "outputs": [
        {
          "output_type": "stream",
          "text": [
            "[1 2 3 4 5]\n"
          ],
          "name": "stdout"
        }
      ]
    },
    {
      "cell_type": "code",
      "metadata": {
        "id": "5_7S1brBYdVt",
        "colab_type": "code",
        "colab": {
          "base_uri": "https://localhost:8080/",
          "height": 34
        },
        "outputId": "0eb121e0-7670-4c60-e532-21cdb3ce3511"
      },
      "source": [
        "#check data type\n",
        "type(arr_1d)"
      ],
      "execution_count": null,
      "outputs": [
        {
          "output_type": "execute_result",
          "data": {
            "text/plain": [
              "numpy.ndarray"
            ]
          },
          "metadata": {
            "tags": []
          },
          "execution_count": 3
        }
      ]
    },
    {
      "cell_type": "code",
      "metadata": {
        "id": "rEoyispzYidi",
        "colab_type": "code",
        "colab": {
          "base_uri": "https://localhost:8080/",
          "height": 34
        },
        "outputId": "758ce236-b8ad-4b09-cb0f-d1a35761fa05"
      },
      "source": [
        "#check dimension\n",
        "arr_1d.ndim"
      ],
      "execution_count": null,
      "outputs": [
        {
          "output_type": "execute_result",
          "data": {
            "text/plain": [
              "1"
            ]
          },
          "metadata": {
            "tags": []
          },
          "execution_count": 4
        }
      ]
    },
    {
      "cell_type": "code",
      "metadata": {
        "id": "wQqu9cFOYxE8",
        "colab_type": "code",
        "colab": {
          "base_uri": "https://localhost:8080/",
          "height": 51
        },
        "outputId": "10a4b293-98d1-4fcc-fa99-91ed51405b08"
      },
      "source": [
        "#create 2-d list\n",
        "arr_2d =np.array([[1,2,3,4],[5,6,7,8]])\n",
        "print (arr_2d)"
      ],
      "execution_count": null,
      "outputs": [
        {
          "output_type": "stream",
          "text": [
            "[[1 2 3 4]\n",
            " [5 6 7 8]]\n"
          ],
          "name": "stdout"
        }
      ]
    },
    {
      "cell_type": "code",
      "metadata": {
        "id": "JyD-Q4QKZFF3",
        "colab_type": "code",
        "colab": {
          "base_uri": "https://localhost:8080/",
          "height": 34
        },
        "outputId": "96371112-2f91-4157-ca1a-e04be7d824e5"
      },
      "source": [
        "#shape (row,columns)\n",
        "arr_2d.shape"
      ],
      "execution_count": null,
      "outputs": [
        {
          "output_type": "execute_result",
          "data": {
            "text/plain": [
              "(2, 4)"
            ]
          },
          "metadata": {
            "tags": []
          },
          "execution_count": 6
        }
      ]
    },
    {
      "cell_type": "code",
      "metadata": {
        "id": "78ap-no5Zdys",
        "colab_type": "code",
        "colab": {
          "base_uri": "https://localhost:8080/",
          "height": 34
        },
        "outputId": "96941dac-a1c4-4f2e-9575-3586d0c4745a"
      },
      "source": [
        "#create ones list\n",
        "ones_arr = np.ones(5)\n",
        "print (ones_arr)"
      ],
      "execution_count": null,
      "outputs": [
        {
          "output_type": "stream",
          "text": [
            "[1. 1. 1. 1. 1.]\n"
          ],
          "name": "stdout"
        }
      ]
    },
    {
      "cell_type": "code",
      "metadata": {
        "id": "Kpo5HtxHZyHI",
        "colab_type": "code",
        "colab": {
          "base_uri": "https://localhost:8080/",
          "height": 68
        },
        "outputId": "e8e96afa-bc6c-4f21-9620-4d25f5507448"
      },
      "source": [
        "ones_arr1 = np.ones((3,4))\n",
        "print (ones_arr1)"
      ],
      "execution_count": null,
      "outputs": [
        {
          "output_type": "stream",
          "text": [
            "[[1. 1. 1. 1.]\n",
            " [1. 1. 1. 1.]\n",
            " [1. 1. 1. 1.]]\n"
          ],
          "name": "stdout"
        }
      ]
    },
    {
      "cell_type": "code",
      "metadata": {
        "id": "o370QZXIaJi3",
        "colab_type": "code",
        "colab": {
          "base_uri": "https://localhost:8080/",
          "height": 68
        },
        "outputId": "03bf4b78-a37d-4f10-cdc7-fac0ac949a15"
      },
      "source": [
        "#create empty list\n",
        "empty_arr = np.empty((3,4))\n",
        "print (empty_arr)"
      ],
      "execution_count": null,
      "outputs": [
        {
          "output_type": "stream",
          "text": [
            "[[1. 1. 1. 1.]\n",
            " [1. 1. 1. 1.]\n",
            " [1. 1. 1. 1.]]\n"
          ],
          "name": "stdout"
        }
      ]
    },
    {
      "cell_type": "code",
      "metadata": {
        "id": "yIRlaHdQbxor",
        "colab_type": "code",
        "colab": {
          "base_uri": "https://localhost:8080/",
          "height": 34
        },
        "outputId": "f62d874e-231b-4287-d954-e1144828639a"
      },
      "source": [
        "# creating a new list  in range using numpy arange function\n",
        "#syntex of arange funtion: .arange(start,end,step) default step =1,end is exclude \n",
        "arange_arr = np.arange(1,11)\n",
        "print (arange_arr)"
      ],
      "execution_count": null,
      "outputs": [
        {
          "output_type": "stream",
          "text": [
            "[ 1  2  3  4  5  6  7  8  9 10]\n"
          ],
          "name": "stdout"
        }
      ]
    },
    {
      "cell_type": "code",
      "metadata": {
        "id": "aB_wI_AacpHU",
        "colab_type": "code",
        "colab": {
          "base_uri": "https://localhost:8080/",
          "height": 34
        },
        "outputId": "f1692b1c-6499-4f43-c706-9778eaca3c36"
      },
      "source": [
        "#get fix value in a range using linspace function\n",
        "#syntex of linspace funtion: .linspace(start,end,needed value) default step =1,end is exclude \n",
        "linspace_arr = np.linspace(1,5,4)\n",
        "print (linspace_arr)"
      ],
      "execution_count": null,
      "outputs": [
        {
          "output_type": "stream",
          "text": [
            "[1.         2.33333333 3.66666667 5.        ]\n"
          ],
          "name": "stdout"
        }
      ]
    },
    {
      "cell_type": "code",
      "metadata": {
        "id": "jBcJXkLZdOyM",
        "colab_type": "code",
        "colab": {
          "base_uri": "https://localhost:8080/",
          "height": 51
        },
        "outputId": "d9816bef-73a3-45ee-8696-1699e28b62e3"
      },
      "source": [
        "#convert 1-d list to 2-d list\n",
        "#arange_arr = [ 1  2  3  4  5  6  7  8  9 10]\n",
        "reshape_arr = arange_arr.reshape(2,5)\n",
        "print (reshape_arr)"
      ],
      "execution_count": null,
      "outputs": [
        {
          "output_type": "stream",
          "text": [
            "[[ 1  2  3  4  5]\n",
            " [ 6  7  8  9 10]]\n"
          ],
          "name": "stdout"
        }
      ]
    },
    {
      "cell_type": "code",
      "metadata": {
        "id": "8GP_qKvxeS0W",
        "colab_type": "code",
        "colab": {
          "base_uri": "https://localhost:8080/",
          "height": 34
        },
        "outputId": "da885c54-9cc6-46b3-c879-a715c7077ba4"
      },
      "source": [
        "#convert m-d list to 1-d list using ravel function\n",
        "ravel_arr = reshape_arr.ravel()\n",
        "print (ravel_arr)"
      ],
      "execution_count": null,
      "outputs": [
        {
          "output_type": "stream",
          "text": [
            "[ 1  2  3  4  5  6  7  8  9 10]\n"
          ],
          "name": "stdout"
        }
      ]
    },
    {
      "cell_type": "code",
      "metadata": {
        "id": "lNxYBgzUeqnY",
        "colab_type": "code",
        "colab": {
          "base_uri": "https://localhost:8080/",
          "height": 34
        },
        "outputId": "251730cd-d479-450d-9f7f-62aec89b4485"
      },
      "source": [
        "#convert m-d list to 1-d list using flatten function\n",
        "flatten_arr = reshape_arr.flatten()\n",
        "print (flatten_arr)"
      ],
      "execution_count": null,
      "outputs": [
        {
          "output_type": "stream",
          "text": [
            "[ 1  2  3  4  5  6  7  8  9 10]\n"
          ],
          "name": "stdout"
        }
      ]
    },
    {
      "cell_type": "code",
      "metadata": {
        "id": "lBiS84RXfDOE",
        "colab_type": "code",
        "colab": {
          "base_uri": "https://localhost:8080/",
          "height": 102
        },
        "outputId": "ed177161-edef-4d2c-8eaf-a288109736e4"
      },
      "source": [
        "#convert rows into columns and columns into rows\n",
        "transpose_arr = reshape_arr.transpose()\n",
        "print (transpose_arr)"
      ],
      "execution_count": null,
      "outputs": [
        {
          "output_type": "stream",
          "text": [
            "[[ 1  6]\n",
            " [ 2  7]\n",
            " [ 3  8]\n",
            " [ 4  9]\n",
            " [ 5 10]]\n"
          ],
          "name": "stdout"
        }
      ]
    },
    {
      "cell_type": "markdown",
      "metadata": {
        "id": "-EXHckbwftk-",
        "colab_type": "text"
      },
      "source": [
        ""
      ]
    },
    {
      "cell_type": "markdown",
      "metadata": {
        "id": "5FUYllUpfweS",
        "colab_type": "text"
      },
      "source": [
        "**Mathematics Opertion**"
      ]
    },
    {
      "cell_type": "code",
      "metadata": {
        "id": "MHOguN6_f9zO",
        "colab_type": "code",
        "colab": {
          "base_uri": "https://localhost:8080/",
          "height": 85
        },
        "outputId": "f3d8be16-2607-41e9-a755-db40a3a90537"
      },
      "source": [
        "arr1 =np.array([[1,2],[3,4]])\n",
        "arr2 =np.array([[5,6],[7,8]])\n",
        "print (arr1)\n",
        "print (arr2)"
      ],
      "execution_count": null,
      "outputs": [
        {
          "output_type": "stream",
          "text": [
            "[[1 2]\n",
            " [3 4]]\n",
            "[[5 6]\n",
            " [7 8]]\n"
          ],
          "name": "stdout"
        }
      ]
    },
    {
      "cell_type": "code",
      "metadata": {
        "id": "hV0vHsBRgMRK",
        "colab_type": "code",
        "colab": {
          "base_uri": "https://localhost:8080/",
          "height": 85
        },
        "outputId": "9c7b27b4-c9c7-464c-82a9-d71da9307437"
      },
      "source": [
        "#addition \n",
        "add_arr = np.add(arr1,arr2)\n",
        "print (add_arr)\n",
        "# subtraction \n",
        "sub_arr = np.subtract(arr1,arr2)\n",
        "print (sub_arr)"
      ],
      "execution_count": null,
      "outputs": [
        {
          "output_type": "stream",
          "text": [
            "[[ 6  8]\n",
            " [10 12]]\n",
            "[[-4 -4]\n",
            " [-4 -4]]\n"
          ],
          "name": "stdout"
        }
      ]
    },
    {
      "cell_type": "code",
      "metadata": {
        "id": "-kKtLEoJhUn4",
        "colab_type": "code",
        "colab": {
          "base_uri": "https://localhost:8080/",
          "height": 51
        },
        "outputId": "d02cded6-b01b-4373-8317-0360d653f00a"
      },
      "source": [
        "#multiply of list\n",
        "mul_arr = arr1 @ arr2\n",
        "print (mul_arr)"
      ],
      "execution_count": null,
      "outputs": [
        {
          "output_type": "stream",
          "text": [
            "[[19 22]\n",
            " [43 50]]\n"
          ],
          "name": "stdout"
        }
      ]
    },
    {
      "cell_type": "code",
      "metadata": {
        "id": "A0URvb0WhpDT",
        "colab_type": "code",
        "colab": {
          "base_uri": "https://localhost:8080/",
          "height": 51
        },
        "outputId": "fce79320-340a-4ae5-88a3-b111c3aee11c"
      },
      "source": [
        "#multiply of list using .dot function\n",
        "mul_arr1 = arr1.dot(arr2)\n",
        "print (mul_arr1)"
      ],
      "execution_count": null,
      "outputs": [
        {
          "output_type": "stream",
          "text": [
            "[[19 22]\n",
            " [43 50]]\n"
          ],
          "name": "stdout"
        }
      ]
    },
    {
      "cell_type": "code",
      "metadata": {
        "id": "1pubLB4Jh4bM",
        "colab_type": "code",
        "colab": {
          "base_uri": "https://localhost:8080/",
          "height": 51
        },
        "outputId": "2b61bcf5-de63-46d4-99e4-c38ee73d373d"
      },
      "source": [
        "#find maximum element \n",
        "max_element = mul_arr1.max()\n",
        "print (max_element)\n",
        "#find maximum element's location\n",
        "max_element_location = mul_arr1.argmax()\n",
        "print (max_element_location)"
      ],
      "execution_count": null,
      "outputs": [
        {
          "output_type": "stream",
          "text": [
            "50\n",
            "3\n"
          ],
          "name": "stdout"
        }
      ]
    },
    {
      "cell_type": "code",
      "metadata": {
        "id": "5fO75EcgiZP6",
        "colab_type": "code",
        "colab": {
          "base_uri": "https://localhost:8080/",
          "height": 51
        },
        "outputId": "d2c04a47-86d0-4a78-8639-17d5c3c2937a"
      },
      "source": [
        "#find minimum element \n",
        "min_element = mul_arr1.min()\n",
        "print (min_element)\n",
        "#find minimum element's location\n",
        "min_element_location = mul_arr1.argmin()\n",
        "print (min_element_location)"
      ],
      "execution_count": null,
      "outputs": [
        {
          "output_type": "stream",
          "text": [
            "19\n",
            "0\n"
          ],
          "name": "stdout"
        }
      ]
    },
    {
      "cell_type": "code",
      "metadata": {
        "id": "DajKi6xbi0zz",
        "colab_type": "code",
        "colab": {
          "base_uri": "https://localhost:8080/",
          "height": 85
        },
        "outputId": "f5723de5-a311-4b7d-aee6-47a1a1dd56ff"
      },
      "source": [
        "#find minimum and maximum elements and location\n",
        "#find minimum in row \n",
        "min_element_in_row = mul_arr1.min(axis=0)\n",
        "print (min_element_in_row)\n",
        "#find minimum in columns\n",
        "min_element_in_columns = mul_arr1.min(axis=1)\n",
        "print (min_element_in_columns)\n",
        "#find maximum in row \n",
        "max_element_in_row = mul_arr1.max(axis=0)\n",
        "print (max_element_in_row)\n",
        "#find minimum in columns\n",
        "max_element_in_columns = mul_arr1.max(axis=1)\n",
        "print (max_element_in_columns)"
      ],
      "execution_count": null,
      "outputs": [
        {
          "output_type": "stream",
          "text": [
            "[19 22]\n",
            "[19 43]\n",
            "[43 50]\n",
            "[22 50]\n"
          ],
          "name": "stdout"
        }
      ]
    },
    {
      "cell_type": "code",
      "metadata": {
        "id": "JOR0s7dVUjgy",
        "colab_type": "code",
        "colab": {
          "base_uri": "https://localhost:8080/",
          "height": 34
        },
        "outputId": "900872b9-9241-4324-d799-1c6f17677f87"
      },
      "source": [
        "ex_arr = [[14, 17, 12, 33, 44],    \n",
        "       [15, 6, 27, 8, 19],   \n",
        "       [23, 2, 54, 1, 4,]]   \n",
        "# summation of array\n",
        "print (np.sum(ex_arr))"
      ],
      "execution_count": null,
      "outputs": [
        {
          "output_type": "stream",
          "text": [
            "279\n"
          ],
          "name": "stdout"
        }
      ]
    },
    {
      "cell_type": "code",
      "metadata": {
        "id": "WImNcOI0cKTh",
        "colab_type": "code",
        "colab": {
          "base_uri": "https://localhost:8080/",
          "height": 34
        },
        "outputId": "e5e47534-b602-47d7-9540-1080b6baf130"
      },
      "source": [
        "#sum of columns\n",
        "print (np.sum(ex_arr,axis=0))"
      ],
      "execution_count": null,
      "outputs": [
        {
          "output_type": "stream",
          "text": [
            "[52 25 93 42 67]\n"
          ],
          "name": "stdout"
        }
      ]
    },
    {
      "cell_type": "code",
      "metadata": {
        "id": "nKSdSTo-cSad",
        "colab_type": "code",
        "colab": {
          "base_uri": "https://localhost:8080/",
          "height": 34
        },
        "outputId": "fe6991f5-111b-4d6b-c400-1b69632753a5"
      },
      "source": [
        "#sum of rows\n",
        "print (np.sum(ex_arr,axis=1))"
      ],
      "execution_count": null,
      "outputs": [
        {
          "output_type": "stream",
          "text": [
            "[120  75  84]\n"
          ],
          "name": "stdout"
        }
      ]
    },
    {
      "cell_type": "code",
      "metadata": {
        "id": "bTCtuk8zchXK",
        "colab_type": "code",
        "colab": {
          "base_uri": "https://localhost:8080/",
          "height": 34
        },
        "outputId": "b5c787d1-06ca-444d-ccc1-8466702046d8"
      },
      "source": [
        "#mean  of array\n",
        "print (np.mean(ex_arr))"
      ],
      "execution_count": null,
      "outputs": [
        {
          "output_type": "stream",
          "text": [
            "18.6\n"
          ],
          "name": "stdout"
        }
      ]
    },
    {
      "cell_type": "code",
      "metadata": {
        "id": "bg1cthZXc0b8",
        "colab_type": "code",
        "colab": {
          "base_uri": "https://localhost:8080/",
          "height": 34
        },
        "outputId": "9ee7968b-8865-4471-94db-2248e56312a2"
      },
      "source": [
        "#standard deviation  of array\n",
        "print (np.std(ex_arr))"
      ],
      "execution_count": null,
      "outputs": [
        {
          "output_type": "stream",
          "text": [
            "14.934523762075575\n"
          ],
          "name": "stdout"
        }
      ]
    },
    {
      "cell_type": "code",
      "metadata": {
        "id": "nrCfcWPic-03",
        "colab_type": "code",
        "colab": {
          "base_uri": "https://localhost:8080/",
          "height": 68
        },
        "outputId": "16e161fb-c910-4b8d-8fcb-4562b8c272d4"
      },
      "source": [
        "#square root  of array\n",
        "print (np.sqrt(ex_arr))"
      ],
      "execution_count": null,
      "outputs": [
        {
          "output_type": "stream",
          "text": [
            "[[3.74165739 4.12310563 3.46410162 5.74456265 6.63324958]\n",
            " [3.87298335 2.44948974 5.19615242 2.82842712 4.35889894]\n",
            " [4.79583152 1.41421356 7.34846923 1.         2.        ]]\n"
          ],
          "name": "stdout"
        }
      ]
    },
    {
      "cell_type": "code",
      "metadata": {
        "id": "zyu4KkxwdIJt",
        "colab_type": "code",
        "colab": {
          "base_uri": "https://localhost:8080/",
          "height": 119
        },
        "outputId": "2ee72f0e-f92d-4327-9e5e-ae42ba21d1b9"
      },
      "source": [
        "#expontial  of array\n",
        "print (np.exp(ex_arr))"
      ],
      "execution_count": null,
      "outputs": [
        {
          "output_type": "stream",
          "text": [
            "[[1.20260428e+06 2.41549528e+07 1.62754791e+05 2.14643580e+14\n",
            "  1.28516001e+19]\n",
            " [3.26901737e+06 4.03428793e+02 5.32048241e+11 2.98095799e+03\n",
            "  1.78482301e+08]\n",
            " [9.74480345e+09 7.38905610e+00 2.83075330e+23 2.71828183e+00\n",
            "  5.45981500e+01]]\n"
          ],
          "name": "stdout"
        }
      ]
    },
    {
      "cell_type": "code",
      "metadata": {
        "id": "fiOBtekldQ8u",
        "colab_type": "code",
        "colab": {
          "base_uri": "https://localhost:8080/",
          "height": 68
        },
        "outputId": "c76a301e-a2b6-4776-ff1d-5c935fa89077"
      },
      "source": [
        "#logrithm  of array\n",
        "print (np.log(ex_arr))"
      ],
      "execution_count": null,
      "outputs": [
        {
          "output_type": "stream",
          "text": [
            "[[2.63905733 2.83321334 2.48490665 3.49650756 3.78418963]\n",
            " [2.7080502  1.79175947 3.29583687 2.07944154 2.94443898]\n",
            " [3.13549422 0.69314718 3.98898405 0.         1.38629436]]\n"
          ],
          "name": "stdout"
        }
      ]
    },
    {
      "cell_type": "code",
      "metadata": {
        "id": "F9K-6UskdZI0",
        "colab_type": "code",
        "colab": {
          "base_uri": "https://localhost:8080/",
          "height": 68
        },
        "outputId": "ff560e78-8b10-4eae-9602-25195a7b992c"
      },
      "source": [
        "#log base 10 of array\n",
        "print (np.log10(ex_arr))"
      ],
      "execution_count": null,
      "outputs": [
        {
          "output_type": "stream",
          "text": [
            "[[1.14612804 1.23044892 1.07918125 1.51851394 1.64345268]\n",
            " [1.17609126 0.77815125 1.43136376 0.90308999 1.2787536 ]\n",
            " [1.36172784 0.30103    1.73239376 0.         0.60205999]]\n"
          ],
          "name": "stdout"
        }
      ]
    },
    {
      "cell_type": "markdown",
      "metadata": {
        "id": "dMKNIVh7kDn0",
        "colab_type": "text"
      },
      "source": [
        "## **Numpy Array Slicing**\n"
      ]
    },
    {
      "cell_type": "code",
      "metadata": {
        "id": "1cLmOXZ0kRAr",
        "colab_type": "code",
        "colab": {
          "base_uri": "https://localhost:8080/",
          "height": 68
        },
        "outputId": "e8dde38d-7d49-4b6c-85bd-af096cd4b648"
      },
      "source": [
        "slice_arr =np.array ([[1,4,5,7],[3,9,8,2],[5,1,9,0]])\n",
        "print(slice_arr)"
      ],
      "execution_count": null,
      "outputs": [
        {
          "output_type": "stream",
          "text": [
            "[[1 4 5 7]\n",
            " [3 9 8 2]\n",
            " [5 1 9 0]]\n"
          ],
          "name": "stdout"
        }
      ]
    },
    {
      "cell_type": "code",
      "metadata": {
        "id": "lu0ME612knSa",
        "colab_type": "code",
        "colab": {
          "base_uri": "https://localhost:8080/",
          "height": 34
        },
        "outputId": "ba0397d7-71e7-44b5-dc35-56919e077056"
      },
      "source": [
        "#select row\n",
        "print (slice_arr[0])"
      ],
      "execution_count": null,
      "outputs": [
        {
          "output_type": "stream",
          "text": [
            "[1 4 5 7]\n"
          ],
          "name": "stdout"
        }
      ]
    },
    {
      "cell_type": "code",
      "metadata": {
        "id": "9dOVdTOSkuPy",
        "colab_type": "code",
        "colab": {
          "base_uri": "https://localhost:8080/",
          "height": 34
        },
        "outputId": "988b8674-8928-4cfa-8a21-c1aa4746bca9"
      },
      "source": [
        "#select single column\n",
        "print (slice_arr[:,1])"
      ],
      "execution_count": null,
      "outputs": [
        {
          "output_type": "stream",
          "text": [
            "[4 9 1]\n"
          ],
          "name": "stdout"
        }
      ]
    },
    {
      "cell_type": "code",
      "metadata": {
        "id": "FZh4kkWBk4O_",
        "colab_type": "code",
        "colab": {
          "base_uri": "https://localhost:8080/",
          "height": 68
        },
        "outputId": "1f482203-59c1-4fb4-afef-18635914d960"
      },
      "source": [
        "#select multiple columns\n",
        "print (slice_arr[:,0:2])"
      ],
      "execution_count": null,
      "outputs": [
        {
          "output_type": "stream",
          "text": [
            "[[1 4]\n",
            " [3 9]\n",
            " [5 1]]\n"
          ],
          "name": "stdout"
        }
      ]
    },
    {
      "cell_type": "code",
      "metadata": {
        "id": "kaSNOEValKP_",
        "colab_type": "code",
        "colab": {
          "base_uri": "https://localhost:8080/",
          "height": 51
        },
        "outputId": "443109ef-520d-4953-f33f-548bf21139bb"
      },
      "source": [
        "#select multiple rows\n",
        "print (slice_arr[0:2,])"
      ],
      "execution_count": null,
      "outputs": [
        {
          "output_type": "stream",
          "text": [
            "[[1 4 5 7]\n",
            " [3 9 8 2]]\n"
          ],
          "name": "stdout"
        }
      ]
    },
    {
      "cell_type": "markdown",
      "metadata": {
        "id": "q8_fWcdQoRSR",
        "colab_type": "text"
      },
      "source": [
        "##Numpy Array Conctination And Split##"
      ]
    },
    {
      "cell_type": "code",
      "metadata": {
        "id": "BSy4gGocoZNS",
        "colab_type": "code",
        "colab": {
          "base_uri": "https://localhost:8080/",
          "height": 34
        },
        "outputId": "f86087ab-26b4-4651-d1c5-db6a45da1fc8"
      },
      "source": [
        "list1 = ([1,2,3,4])\n",
        "list2 = ([5,6,7,8])\n",
        "print (list1+list2)\n"
      ],
      "execution_count": null,
      "outputs": [
        {
          "output_type": "stream",
          "text": [
            "[1, 2, 3, 4, 5, 6, 7, 8]\n"
          ],
          "name": "stdout"
        }
      ]
    },
    {
      "cell_type": "code",
      "metadata": {
        "id": "cdeJQqfkooIp",
        "colab_type": "code",
        "colab": {
          "base_uri": "https://localhost:8080/",
          "height": 34
        },
        "outputId": "ce862371-a8eb-44d2-89c1-ff9ac4ef5f87"
      },
      "source": [
        "con_list = np.concatenate((list1,list2))\n",
        "print (con_list)"
      ],
      "execution_count": null,
      "outputs": [
        {
          "output_type": "stream",
          "text": [
            "[1 2 3 4 5 6 7 8]\n"
          ],
          "name": "stdout"
        }
      ]
    },
    {
      "cell_type": "code",
      "metadata": {
        "id": "SvZJXbI6o0OO",
        "colab_type": "code",
        "colab": {
          "base_uri": "https://localhost:8080/",
          "height": 51
        },
        "outputId": "24f7f4b4-ee7c-47b9-976a-b99dc43fc89f"
      },
      "source": [
        "#concate vertical stack\n",
        "vertical_list = np.vstack((list1,list2))\n",
        "print (vertical_list)"
      ],
      "execution_count": null,
      "outputs": [
        {
          "output_type": "stream",
          "text": [
            "[[1 2 3 4]\n",
            " [5 6 7 8]]\n"
          ],
          "name": "stdout"
        }
      ]
    },
    {
      "cell_type": "code",
      "metadata": {
        "id": "PlSBrTqcpxwB",
        "colab_type": "code",
        "colab": {
          "base_uri": "https://localhost:8080/",
          "height": 34
        },
        "outputId": "a7d5762d-14d6-42ac-a02e-fae357110262"
      },
      "source": [
        "#concate horizontal stack\n",
        "horizontal_list = np.hstack((list1,list2))\n",
        "print (horizontal_list)"
      ],
      "execution_count": null,
      "outputs": [
        {
          "output_type": "stream",
          "text": [
            "[1 2 3 4 5 6 7 8]\n"
          ],
          "name": "stdout"
        }
      ]
    },
    {
      "cell_type": "code",
      "metadata": {
        "id": "XQ2OcUPip9a4",
        "colab_type": "code",
        "colab": {
          "base_uri": "https://localhost:8080/",
          "height": 34
        },
        "outputId": "43364a75-7b2e-4053-dd77-6445a7b863dd"
      },
      "source": [
        "#splict the list\n",
        "splict_arr = np.split(vertical_list,2)\n",
        "print (splict_arr)"
      ],
      "execution_count": null,
      "outputs": [
        {
          "output_type": "stream",
          "text": [
            "[array([[1, 2, 3, 4]]), array([[5, 6, 7, 8]])]\n"
          ],
          "name": "stdout"
        }
      ]
    },
    {
      "cell_type": "code",
      "metadata": {
        "id": "iIQP00mKqt4Z",
        "colab_type": "code",
        "colab": {
          "base_uri": "https://localhost:8080/",
          "height": 68
        },
        "outputId": "dd2696ab-3e81-4883-db28-34c9d6f6759b"
      },
      "source": [
        "splict_arr1 = np.split(vertical_list,2,axis=1)\n",
        "print (splict_arr1)"
      ],
      "execution_count": null,
      "outputs": [
        {
          "output_type": "stream",
          "text": [
            "[array([[1, 2],\n",
            "       [5, 6]]), array([[3, 4],\n",
            "       [7, 8]])]\n"
          ],
          "name": "stdout"
        }
      ]
    },
    {
      "cell_type": "markdown",
      "metadata": {
        "id": "u__TRm00rLH6",
        "colab_type": "text"
      },
      "source": [
        "##Random Sampling##\n"
      ]
    },
    {
      "cell_type": "code",
      "metadata": {
        "id": "pzYwEa2rrM3P",
        "colab_type": "code",
        "colab": {}
      },
      "source": [
        "import random"
      ],
      "execution_count": null,
      "outputs": []
    },
    {
      "cell_type": "code",
      "metadata": {
        "id": "6F_ejQshrdKP",
        "colab_type": "code",
        "colab": {
          "base_uri": "https://localhost:8080/",
          "height": 34
        },
        "outputId": "2cc1fd4b-c6ec-45c8-cdfb-cb356df8605f"
      },
      "source": [
        "#print a random number from 0 to 1(* exclude)\n",
        "print (np.random.random(1))"
      ],
      "execution_count": null,
      "outputs": [
        {
          "output_type": "stream",
          "text": [
            "[0.09458704]\n"
          ],
          "name": "stdout"
        }
      ]
    },
    {
      "cell_type": "code",
      "metadata": {
        "id": "9FJwXpGvrtcJ",
        "colab_type": "code",
        "colab": {
          "base_uri": "https://localhost:8080/",
          "height": 68
        },
        "outputId": "37092d55-b56f-4cea-a7e1-975659e5da96"
      },
      "source": [
        "##print a  array of 3x3 of random number from 0 to 1(* exclude)\n",
        "print (np.random.random((3,3)))"
      ],
      "execution_count": null,
      "outputs": [
        {
          "output_type": "stream",
          "text": [
            "[[0.23378575 0.09428774 0.39162589]\n",
            " [0.89476039 0.27913479 0.12493703]\n",
            " [0.26635861 0.76792283 0.65746639]]\n"
          ],
          "name": "stdout"
        }
      ]
    },
    {
      "cell_type": "code",
      "metadata": {
        "id": "azKoJ7zkr_Fr",
        "colab_type": "code",
        "colab": {
          "base_uri": "https://localhost:8080/",
          "height": 34
        },
        "outputId": "56196265-7750-4787-adb6-6e8a0fe14632"
      },
      "source": [
        "#print a random integers number \n",
        "print (np.random.randint(1))"
      ],
      "execution_count": null,
      "outputs": [
        {
          "output_type": "stream",
          "text": [
            "0\n"
          ],
          "name": "stdout"
        }
      ]
    },
    {
      "cell_type": "code",
      "metadata": {
        "id": "GrxUdKssuHKz",
        "colab_type": "code",
        "colab": {
          "base_uri": "https://localhost:8080/",
          "height": 68
        },
        "outputId": "da42c603-4673-428f-bbbe-9e050346344a"
      },
      "source": [
        "##print a  array of 3x3 of random intergers  number from 1 to 4\n",
        "print (np.random.randint(1,4, (3,3)))"
      ],
      "execution_count": null,
      "outputs": [
        {
          "output_type": "stream",
          "text": [
            "[[1 1 1]\n",
            " [1 1 3]\n",
            " [1 1 3]]\n"
          ],
          "name": "stdout"
        }
      ]
    },
    {
      "cell_type": "code",
      "metadata": {
        "id": "ZarxunYAuPr_",
        "colab_type": "code",
        "colab": {
          "base_uri": "https://localhost:8080/",
          "height": 68
        },
        "outputId": "39b8aed7-2a55-4d85-c767-3df85773cbd5"
      },
      "source": [
        "#gerenate same random number nth times using seed function \n",
        "#syntex of seed : .seed(n)\n",
        "np.random.seed(10)\n",
        "print (np.random.randint(1,4, (3,3)))\n"
      ],
      "execution_count": null,
      "outputs": [
        {
          "output_type": "stream",
          "text": [
            "[[2 2 1]\n",
            " [1 2 1]\n",
            " [2 2 1]]\n"
          ],
          "name": "stdout"
        }
      ]
    },
    {
      "cell_type": "code",
      "metadata": {
        "id": "ZKtucry7LOGu",
        "colab_type": "code",
        "colab": {
          "base_uri": "https://localhost:8080/",
          "height": 68
        },
        "outputId": "13d349b3-2e77-4105-bbe9-e97110960505"
      },
      "source": [
        "#generate postive and negative random numbers \n",
        "print (np.random.randn(3,4))"
      ],
      "execution_count": null,
      "outputs": [
        {
          "output_type": "stream",
          "text": [
            "[[-0.53479453  1.03287114 -0.13623575  0.17637307]\n",
            " [ 0.31085074  1.72937588 -0.24066194 -1.02735202]\n",
            " [ 0.42401507  1.40862087  0.43999202 -0.42823439]]\n"
          ],
          "name": "stdout"
        }
      ]
    },
    {
      "cell_type": "code",
      "metadata": {
        "id": "-3RDcvJtLPLZ",
        "colab_type": "code",
        "colab": {
          "base_uri": "https://localhost:8080/",
          "height": 34
        },
        "outputId": "cc6e4601-1a25-4dd0-a520-248b90fa336b"
      },
      "source": [
        "#choose a random element from list\n",
        "x=[1,5,7,8,0,6,5]\n",
        "print (np.random.choice(x))"
      ],
      "execution_count": null,
      "outputs": [
        {
          "output_type": "stream",
          "text": [
            "5\n"
          ],
          "name": "stdout"
        }
      ]
    },
    {
      "cell_type": "code",
      "metadata": {
        "id": "Q3MUUbZ8M2-U",
        "colab_type": "code",
        "colab": {
          "base_uri": "https://localhost:8080/",
          "height": 34
        },
        "outputId": "97870191-38cd-4c1d-b3ce-45bfd1822789"
      },
      "source": [
        "#generate permutation\n",
        "print (np.random.permutation(2))"
      ],
      "execution_count": null,
      "outputs": [
        {
          "output_type": "stream",
          "text": [
            "[0 1]\n"
          ],
          "name": "stdout"
        }
      ]
    },
    {
      "cell_type": "code",
      "metadata": {
        "id": "3lOkWLVyNIyh",
        "colab_type": "code",
        "colab": {
          "base_uri": "https://localhost:8080/",
          "height": 34
        },
        "outputId": "8b0241f7-181e-424c-ac9c-7aec15ac5517"
      },
      "source": [
        "print (np.random.shuffle(x))"
      ],
      "execution_count": null,
      "outputs": [
        {
          "output_type": "stream",
          "text": [
            "None\n"
          ],
          "name": "stdout"
        }
      ]
    },
    {
      "cell_type": "markdown",
      "metadata": {
        "id": "loB9SoJYN4Hz",
        "colab_type": "text"
      },
      "source": [
        "##String Operatation##\n"
      ]
    },
    {
      "cell_type": "code",
      "metadata": {
        "id": "pjgwgfxHNR16",
        "colab_type": "code",
        "colab": {
          "base_uri": "https://localhost:8080/",
          "height": 34
        },
        "outputId": "a3a646fd-d6b3-41c4-9d66-61e650c6a224"
      },
      "source": [
        "first_name = \"Balwant\"\n",
        "last_name =  \"Tanwar\"\n",
        "#add using join function\n",
        "print (np.char.add(first_name,last_name))"
      ],
      "execution_count": null,
      "outputs": [
        {
          "output_type": "stream",
          "text": [
            "BalwantTanwar\n"
          ],
          "name": "stdout"
        }
      ]
    },
    {
      "cell_type": "code",
      "metadata": {
        "id": "9NEWTA33OT58",
        "colab_type": "code",
        "colab": {
          "base_uri": "https://localhost:8080/",
          "height": 34
        },
        "outputId": "52dd45ab-a0a0-49aa-b9d4-9bd780451283"
      },
      "source": [
        "#Upper case\n",
        "print (np.char.upper(first_name))"
      ],
      "execution_count": null,
      "outputs": [
        {
          "output_type": "stream",
          "text": [
            "BALWANT\n"
          ],
          "name": "stdout"
        }
      ]
    },
    {
      "cell_type": "code",
      "metadata": {
        "id": "dncUVgyyRGaB",
        "colab_type": "code",
        "colab": {
          "base_uri": "https://localhost:8080/",
          "height": 34
        },
        "outputId": "2f8884b2-7363-494d-b3f5-9487541bb8a2"
      },
      "source": [
        "#Lower case\n",
        "str1 =\"UPPERCASE\"\n",
        "print (np.char.lower(str1))"
      ],
      "execution_count": null,
      "outputs": [
        {
          "output_type": "stream",
          "text": [
            "uppercase\n"
          ],
          "name": "stdout"
        }
      ]
    },
    {
      "cell_type": "code",
      "metadata": {
        "id": "G7F49-OkSEnn",
        "colab_type": "code",
        "colab": {
          "base_uri": "https://localhost:8080/",
          "height": 34
        },
        "outputId": "d9d5a273-be57-4afe-d952-db1b8ef5e3b1"
      },
      "source": [
        "#center align of text\n",
        "print (np.char.center(first_name,60,fillchar=\"*\"))"
      ],
      "execution_count": null,
      "outputs": [
        {
          "output_type": "stream",
          "text": [
            "**************************Balwant***************************\n"
          ],
          "name": "stdout"
        }
      ]
    },
    {
      "cell_type": "code",
      "metadata": {
        "id": "YcbBZZJWSsq2",
        "colab_type": "code",
        "colab": {
          "base_uri": "https://localhost:8080/",
          "height": 34
        },
        "outputId": "f851e51b-d93f-41a8-cbda-c8d2d6e94100"
      },
      "source": [
        "#join two strings with characters\n",
        "print (np.char.join([\":\",\"/\"],[first_name,last_name]))"
      ],
      "execution_count": null,
      "outputs": [
        {
          "output_type": "stream",
          "text": [
            "['B:a:l:w:a:n:t' 'T/a/n/w/a/r']\n"
          ],
          "name": "stdout"
        }
      ]
    },
    {
      "cell_type": "code",
      "metadata": {
        "id": "6SbrSzMaTDa0",
        "colab_type": "code",
        "colab": {
          "base_uri": "https://localhost:8080/",
          "height": 34
        },
        "outputId": "0195a6c4-ad84-4820-b0a8-ba88e552bdd5"
      },
      "source": [
        "#replace in string\n",
        "str2= \"i am a webdeveloper\"\n",
        "print (np.char.replace(str2,'webdeveloper','MlDeveloper'))"
      ],
      "execution_count": null,
      "outputs": [
        {
          "output_type": "stream",
          "text": [
            "i am a MlDeveloper\n"
          ],
          "name": "stdout"
        }
      ]
    },
    {
      "cell_type": "code",
      "metadata": {
        "id": "csux_X7mTgvo",
        "colab_type": "code",
        "colab": {
          "base_uri": "https://localhost:8080/",
          "height": 34
        },
        "outputId": "a061fee4-1bcb-422b-e4ab-ad0cd274ac96"
      },
      "source": [
        "#check for equility of two strings\n",
        "print (np.char.equal(str1,str2))"
      ],
      "execution_count": null,
      "outputs": [
        {
          "output_type": "stream",
          "text": [
            "False\n"
          ],
          "name": "stdout"
        }
      ]
    },
    {
      "cell_type": "code",
      "metadata": {
        "id": "29e8MKTaTtRP",
        "colab_type": "code",
        "colab": {
          "base_uri": "https://localhost:8080/",
          "height": 34
        },
        "outputId": "c417cc01-cbfe-46ec-861e-a099a094cd51"
      },
      "source": [
        "#count frequency of a character\n",
        "print (np.char.count(str2,'e'))"
      ],
      "execution_count": null,
      "outputs": [
        {
          "output_type": "stream",
          "text": [
            "4\n"
          ],
          "name": "stdout"
        }
      ]
    },
    {
      "cell_type": "code",
      "metadata": {
        "id": "mNNKLGt_UC-y",
        "colab_type": "code",
        "colab": {
          "base_uri": "https://localhost:8080/",
          "height": 34
        },
        "outputId": "d3e77954-7992-4ba6-d3f5-426f897bf7da"
      },
      "source": [
        "#split line from string\n",
        "str3 = \"hello\\nMachine\\nLearning\\nWorld\"\n",
        "print (np.char.splitlines(str3))"
      ],
      "execution_count": null,
      "outputs": [
        {
          "output_type": "stream",
          "text": [
            "['hello', 'Machine', 'Learning', 'World']\n"
          ],
          "name": "stdout"
        }
      ]
    },
    {
      "cell_type": "markdown",
      "metadata": {
        "id": "jiHAkdjSd_WR",
        "colab_type": "text"
      },
      "source": [
        "##Trigonometry Operation ##"
      ]
    },
    {
      "cell_type": "code",
      "metadata": {
        "id": "sEzrrZlud9Pt",
        "colab_type": "code",
        "colab": {}
      },
      "source": [
        "import matplotlib.pyplot as plt\n",
        "import numpy as np\n",
        "# if using a jupyter notebook\n",
        "# %matplotlib inline "
      ],
      "execution_count": null,
      "outputs": []
    },
    {
      "cell_type": "code",
      "metadata": {
        "id": "2CjXKLtZexEz",
        "colab_type": "code",
        "colab": {
          "base_uri": "https://localhost:8080/",
          "height": 265
        },
        "outputId": "a5e37c53-4814-4538-d218-c38c0202d7d1"
      },
      "source": [
        "#Sin function\n",
        "x = np.arange(0,4*np.pi,0.1)   # start,stop,step\n",
        "y = np.sin(x)\n",
        "plt.plot(x,y)\n",
        "plt.show()"
      ],
      "execution_count": null,
      "outputs": [
        {
          "output_type": "display_data",
          "data": {
            "image/png": "[encoded data removed]",
            "text/plain": [
              "<Figure size 432x288 with 1 Axes>"
            ]
          },
          "metadata": {
            "tags": [],
            "needs_background": "light"
          }
        }
      ]
    },
    {
      "cell_type": "code",
      "metadata": {
        "id": "reGDoB6tfAfm",
        "colab_type": "code",
        "colab": {
          "base_uri": "https://localhost:8080/",
          "height": 265
        },
        "outputId": "3ad34f7e-8c0b-4756-b6d0-b7b96c2c155c"
      },
      "source": [
        "#Cos function\n",
        "x = np.arange(0,4*np.pi,0.1)   # start,stop,step\n",
        "y = np.cos(x)\n",
        "plt.plot(x,y)\n",
        "plt.show()"
      ],
      "execution_count": null,
      "outputs": [
        {
          "output_type": "display_data",
          "data": {
            "image/png": "[encoded data removed]",
            "text/plain": [
              "<Figure size 432x288 with 1 Axes>"
            ]
          },
          "metadata": {
            "tags": [],
            "needs_background": "light"
          }
        }
      ]
    },
    {
      "cell_type": "code",
      "metadata": {
        "id": "RIewdLmOe91e",
        "colab_type": "code",
        "colab": {
          "base_uri": "https://localhost:8080/",
          "height": 265
        },
        "outputId": "6c430e76-a40e-411f-ced8-2e0aaeaf7c0d"
      },
      "source": [
        "#Tan function\n",
        "x = np.arange(0,np.pi,0.1)   # start,stop,step\n",
        "y = np.tan(x)\n",
        "plt.plot(x,y)\n",
        "plt.show()"
      ],
      "execution_count": null,
      "outputs": [
        {
          "output_type": "display_data",
          "data": {
            "image/png": "[encoded data removed]",
            "text/plain": [
              "<Figure size 432x288 with 1 Axes>"
            ]
          },
          "metadata": {
            "tags": [],
            "needs_background": "light"
          }
        }
      ]
    },
    {
      "cell_type": "code",
      "metadata": {
        "id": "VLitzQqGfUw1",
        "colab_type": "code",
        "colab": {}
      },
      "source": [
        ""
      ],
      "execution_count": null,
      "outputs": []
    }
  ]
}