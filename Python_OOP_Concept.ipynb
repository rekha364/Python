{
  "nbformat": 4,
  "nbformat_minor": 0,
  "metadata": {
    "colab": {
      "name": "Python OOP Concept",
      "provenance": [],
      "include_colab_link": true
    },
    "kernelspec": {
      "name": "python3",
      "display_name": "Python 3"
    }
  },
  "cells": [
    {
      "cell_type": "markdown",
      "metadata": {
        "id": "view-in-github",
        "colab_type": "text"
      },
      "source": [
        "<a href=\"https://colab.research.google.com/github/rekha364/Python/blob/master/Python_OOP_Concept.ipynb\" target=\"_parent\"><img src=\"https://colab.research.google.com/assets/colab-badge.svg\" alt=\"Open In Colab\"/></a>"
      ]
    },
    {
      "cell_type": "code",
      "metadata": {
        "id": "x5VI4XHW48lD",
        "colab_type": "code",
        "colab": {}
      },
      "source": [
        ""
      ],
      "execution_count": null,
      "outputs": []
    },
    {
      "cell_type": "markdown",
      "metadata": {
        "id": "axTk5O6yPH7s",
        "colab_type": "text"
      },
      "source": [
        "An object-oriented paradigm is to design the program using classes and objects. The object is related to real-word entities such as book, house, pencil, etc. The oops concept focuses on writing the reusable code. It is a widespread technique to solve the problem by creating objects.\n",
        "Major principles of object-oriented programming system are given below.\n",
        "\n",
        "\n",
        "> \n",
        "\n",
        "\n",
        "\n",
        "*   Class\n",
        "*   Object\n",
        "*   Method\n",
        "*   Inheritance\n",
        "*   Polymorphism\n",
        "*   Data Abstraction\n",
        "*   Encapsulation\n",
        "\n"
      ]
    },
    {
      "cell_type": "markdown",
      "metadata": {
        "id": "RExWeaPaQN8k",
        "colab_type": "text"
      },
      "source": [
        "##Class##\n"
      ]
    },
    {
      "cell_type": "markdown",
      "metadata": {
        "id": "UwHbv9XmQaZQ",
        "colab_type": "text"
      },
      "source": [
        "The class can be defined as a collection of objects. It is a logical entity that has some specific attributes and methods. For example: if you have an employee class, then it should contain an attribute and method, i.e. an email id, name, age, salary, etc.so a class is a virtual entity and can be seen as a blueprint of an object. The class came into existence when it instantiated. \n",
        " we can create as many objects of this class.\n",
        "\n",
        "\n"
      ]
    },
    {
      "cell_type": "markdown",
      "metadata": {
        "id": "RaAb44pGRfMJ",
        "colab_type": "text"
      },
      "source": [
        "**Syntax**\n",
        "\n",
        "\n",
        "```\n",
        "class ClassName:     \n",
        "        <statement-1>     \n",
        "        .  \n",
        "        .      \n",
        "        <statement-N>\n",
        "```\n",
        "\n",
        "\n"
      ]
    },
    {
      "cell_type": "code",
      "metadata": {
        "id": "hR_tM3XGU2jU",
        "colab_type": "code",
        "colab": {}
      },
      "source": [
        "#Example\n",
        "class Student:    \n",
        "    id = 10   \n",
        "    name = \"Balwant\"    \n",
        "    def display (self):    \n",
        "        print(self.id,self.name)  "
      ],
      "execution_count": 8,
      "outputs": []
    },
    {
      "cell_type": "markdown",
      "metadata": {
        "id": "65b0YZw0R3BS",
        "colab_type": "text"
      },
      "source": [
        "# **Object**"
      ]
    },
    {
      "cell_type": "markdown",
      "metadata": {
        "id": "L88AWViISEew",
        "colab_type": "text"
      },
      "source": [
        "The object is the instance of a class. The process of creating an object can be called instantiation.\n",
        "the object is an entity that has state and behavior. It may be any real-world object like the house, bike, chair, table, pen, etc.\n",
        "\n",
        "Everything in Python is an object, and almost everything has attributes and methods. All functions have a built-in attribute __doc__, which returns the docstring defined in the function source code.\n",
        "\n",
        "When we define a class, it needs to create an object to allocate the memory. Consider the following example."
      ]
    },
    {
      "cell_type": "code",
      "metadata": {
        "id": "bYSZ_mRaSOM8",
        "colab_type": "code",
        "colab": {
          "base_uri": "https://localhost:8080/",
          "height": 34
        },
        "outputId": "93366286-4799-4323-94ec-6586399eb16c"
      },
      "source": [
        "class book:  \n",
        "    def __init__(self,name, price):  \n",
        "        self.name = name  \n",
        "        self.price = price  \n",
        "    def display(self):  \n",
        "        print(self.name,self.price)  \n",
        " \n",
        "b1 = book(\"Machine-Learning\", 2020)  \n",
        "b1.display() "
      ],
      "execution_count": null,
      "outputs": [
        {
          "output_type": "stream",
          "text": [
            "Machine-Learning 2020\n"
          ],
          "name": "stdout"
        }
      ]
    },
    {
      "cell_type": "markdown",
      "metadata": {
        "id": "-H4ZRnjyVkEP",
        "colab_type": "text"
      },
      "source": [
        "Here, the **self** is used as a reference variable, which refers to the current class object. It is always the first argument in the function definition. However, using **self** is optional in the function call."
      ]
    },
    {
      "cell_type": "markdown",
      "metadata": {
        "id": "nxrxEh-7V0gR",
        "colab_type": "text"
      },
      "source": [
        "**The self-parameter**"
      ]
    },
    {
      "cell_type": "markdown",
      "metadata": {
        "id": "2hl7vj0vcQRV",
        "colab_type": "text"
      },
      "source": [
        "The self-parameter refers to the current instance of the class and accesses the class variables. We can use anything instead of self, but it must be the first parameter of any function which belongs to the class."
      ]
    },
    {
      "cell_type": "markdown",
      "metadata": {
        "id": "9vVELGOIcUTV",
        "colab_type": "text"
      },
      "source": [
        "**Creating an instance of the class**"
      ]
    },
    {
      "cell_type": "markdown",
      "metadata": {
        "id": "M7DTVgEAcZpT",
        "colab_type": "text"
      },
      "source": [
        "A class needs to be instantiated if we want to use the class attributes in another class or method. A class can be instantiated by calling the class using the class name.\n",
        "\n",
        "The syntax to create the instance of the class is given below.\n",
        "\n",
        "\n",
        "```\n",
        "<object-name> = <class-name>(<arguments>)    \n",
        "```\n",
        "\n"
      ]
    },
    {
      "cell_type": "code",
      "metadata": {
        "id": "kVn5C_jCcs88",
        "colab_type": "code",
        "colab": {
          "base_uri": "https://localhost:8080/",
          "height": 34
        },
        "outputId": "afddbaa2-21c0-4ff0-ce34-13231430c08b"
      },
      "source": [
        "class book:  \n",
        "    def __init__(self,name, price):  \n",
        "        self.name = name  \n",
        "        self.price = price  \n",
        "    def display(self):  \n",
        "        print(self.name,self.price)  \n",
        " \n",
        "b1 = book(\"Machine-Learning\", 2020)  \n",
        "b1.display()  "
      ],
      "execution_count": null,
      "outputs": [
        {
          "output_type": "stream",
          "text": [
            "Machine-Learning 2020\n"
          ],
          "name": "stdout"
        }
      ]
    },
    {
      "cell_type": "markdown",
      "metadata": {
        "id": "udKtHN90eJmF",
        "colab_type": "text"
      },
      "source": [
        "**Python Constructor**"
      ]
    },
    {
      "cell_type": "markdown",
      "metadata": {
        "id": "7dIwfXIZekhN",
        "colab_type": "text"
      },
      "source": [
        "A constructor is a special type of method (function) which is used to initialize the instance members of the class.\n",
        "\n",
        "In C++ or Java, the constructor has the same name as its class, but it treats constructor differently in Python. It is used to create an object.\n",
        "\n",
        "Constructors can be of two types.\n",
        "\n",
        "\n",
        "1.   Parameterized Constructor\n",
        "2.   Non-parameterized Constructor\n",
        "\n",
        "Constructor definition is executed when we create the object of this class. Constructors also verify that there are enough resources for the object to perform any start-up task.\n",
        "\n"
      ]
    },
    {
      "cell_type": "markdown",
      "metadata": {
        "id": "iZh0EdDuhqns",
        "colab_type": "text"
      },
      "source": [
        "**Creating the constructor in python**"
      ]
    },
    {
      "cell_type": "markdown",
      "metadata": {
        "id": "8grL6yeJhwWH",
        "colab_type": "text"
      },
      "source": [
        "In Python, the method the __init__() simulates the constructor of the class. This method is called when the class is instantiated. It accepts the self-keyword as a first argument which allows accessing the attributes or method of the class.\n",
        "\n",
        "We can pass any number of arguments at the time of creating the class object, depending upon the __init__() definition. It is mostly used to initialize the class attributes. Every class must have a constructor, even if it simply relies on the default constructor.\n",
        "\n",
        "Consider the following example to initialize the Student class attributes."
      ]
    },
    {
      "cell_type": "code",
      "metadata": {
        "id": "sO0LdXWph383",
        "colab_type": "code",
        "colab": {
          "base_uri": "https://localhost:8080/",
          "height": 87
        },
        "outputId": "333a8e91-bfde-486f-e0df-6216b36caa6a"
      },
      "source": [
        "class Student:  \n",
        "    def __init__(self, name, id):  \n",
        "        self.id = id  \n",
        "        self.name = name  \n",
        "  \n",
        "    def display(self):  \n",
        "        print(\"ID: %d \\nName: %s\" % (self.id, self.name))  \n",
        "  \n",
        "  \n",
        "s1 = Student(\"Balwant\", 101)  \n",
        "s2 = Student(\"Tanwar\", 102)  \n",
        "  \n",
        "# accessing display() method to print student 1 information  \n",
        "  \n",
        "s1.display()  \n",
        "  \n",
        "# accessing display() method to print student 2 information  \n",
        "s2.display()  "
      ],
      "execution_count": 9,
      "outputs": [
        {
          "output_type": "stream",
          "text": [
            "ID: 101 \n",
            "Name: Balwant\n",
            "ID: 102 \n",
            "Name: Tanwar\n"
          ],
          "name": "stdout"
        }
      ]
    },
    {
      "cell_type": "markdown",
      "metadata": {
        "id": "GneDQCGfiUfh",
        "colab_type": "text"
      },
      "source": [
        "**Counting the number of objects of a class**"
      ]
    },
    {
      "cell_type": "markdown",
      "metadata": {
        "id": "7NlZqCqHkB-j",
        "colab_type": "text"
      },
      "source": [
        "The constructor is called automatically when we create the object of the class. Consider the following example."
      ]
    },
    {
      "cell_type": "code",
      "metadata": {
        "id": "_rRx4V7SkCrv",
        "colab_type": "code",
        "colab": {
          "base_uri": "https://localhost:8080/",
          "height": 34
        },
        "outputId": "312c2ccc-a151-4b6f-86e5-16fbe5afab63"
      },
      "source": [
        "class Student:    \n",
        "    count = 0    \n",
        "    def __init__(self):    \n",
        "        Student.count = Student.count + 1    \n",
        "s1=Student()    \n",
        "s2=Student()    \n",
        "s3=Student()    \n",
        "print(\"The number of students:\",Student.count)  "
      ],
      "execution_count": 10,
      "outputs": [
        {
          "output_type": "stream",
          "text": [
            "The number of students: 3\n"
          ],
          "name": "stdout"
        }
      ]
    },
    {
      "cell_type": "markdown",
      "metadata": {
        "id": "rzBYNzyHkJT2",
        "colab_type": "text"
      },
      "source": [
        "**Python Non-Parameterized Constructor**"
      ]
    },
    {
      "cell_type": "markdown",
      "metadata": {
        "id": "gnl4miD_kPDg",
        "colab_type": "text"
      },
      "source": [
        "The non-parameterized constructor uses when we do not want to manipulate the value or the constructor that has only self as an argument. Consider the following example."
      ]
    },
    {
      "cell_type": "code",
      "metadata": {
        "id": "j86NE1rokQwK",
        "colab_type": "code",
        "colab": {
          "base_uri": "https://localhost:8080/",
          "height": 51
        },
        "outputId": "dcf2065f-541b-42b6-cc15-0c3699482c51"
      },
      "source": [
        "class Student:  \n",
        "    # Constructor - non parameterized  \n",
        "    def __init__(self):  \n",
        "        print(\"This is non parametrized constructor\")  \n",
        "    def show(self,name):  \n",
        "        print(\"Hello\",name)  \n",
        "student = Student()  \n",
        "student.show(\"Balwant\")   "
      ],
      "execution_count": null,
      "outputs": [
        {
          "output_type": "stream",
          "text": [
            "This is non parametrized constructor\n",
            "Hello Balwant\n"
          ],
          "name": "stdout"
        }
      ]
    },
    {
      "cell_type": "markdown",
      "metadata": {
        "id": "uFnoHBxWkZGd",
        "colab_type": "text"
      },
      "source": [
        "**Python Parameterized Constructor**\n"
      ]
    },
    {
      "cell_type": "markdown",
      "metadata": {
        "id": "E2VixVnukcTe",
        "colab_type": "text"
      },
      "source": [
        "The parameterized constructor has multiple parameters along with the self. Consider the following example."
      ]
    },
    {
      "cell_type": "code",
      "metadata": {
        "id": "9WjnwI4Eke1v",
        "colab_type": "code",
        "colab": {
          "base_uri": "https://localhost:8080/",
          "height": 52
        },
        "outputId": "6c6124bd-03c9-4e8d-e83f-4b60fb81ed94"
      },
      "source": [
        "class Student:  \n",
        "    # Constructor - parameterized  \n",
        "    def __init__(self, name):  \n",
        "        print(\"This is parametrized constructor\")  \n",
        "        self.name = name  \n",
        "    def show(self):  \n",
        "        print(\"Hello\",self.name)  \n",
        "student = Student(\"John\")  \n",
        "student.show()    "
      ],
      "execution_count": 12,
      "outputs": [
        {
          "output_type": "stream",
          "text": [
            "This is parametrized constructor\n",
            "Hello John\n"
          ],
          "name": "stdout"
        }
      ]
    },
    {
      "cell_type": "markdown",
      "metadata": {
        "id": "c5pNbvB6kj41",
        "colab_type": "text"
      },
      "source": [
        "**Python Default Constructor**"
      ]
    },
    {
      "cell_type": "markdown",
      "metadata": {
        "id": "VRhyHjcAkm6I",
        "colab_type": "text"
      },
      "source": [
        "When we do not include the constructor in the class or forget to declare it, then that becomes the default constructor. It does not perform any task but initializes the objects. Consider the following example."
      ]
    },
    {
      "cell_type": "code",
      "metadata": {
        "id": "D7_UgipdkrDH",
        "colab_type": "code",
        "colab": {
          "base_uri": "https://localhost:8080/",
          "height": 34
        },
        "outputId": "a7122054-03b6-41f1-a691-2109dc190a87"
      },
      "source": [
        "class Student:  \n",
        "    roll_num = 101  \n",
        "    name = \"Balwant\"  \n",
        "  \n",
        "    def display(self):  \n",
        "        print(self.roll_num,self.name)  \n",
        "  \n",
        "st = Student()  \n",
        "st.display()  "
      ],
      "execution_count": null,
      "outputs": [
        {
          "output_type": "stream",
          "text": [
            "101 Balwant\n"
          ],
          "name": "stdout"
        }
      ]
    },
    {
      "cell_type": "markdown",
      "metadata": {
        "id": "WhmoGuxhpQyp",
        "colab_type": "text"
      },
      "source": [
        "**More than One Constructor in Single class**"
      ]
    },
    {
      "cell_type": "code",
      "metadata": {
        "id": "1N2TLv3SpVyi",
        "colab_type": "code",
        "colab": {
          "base_uri": "https://localhost:8080/",
          "height": 34
        },
        "outputId": "dba57f89-18ff-48b6-d3dd-fb8ebf3453e5"
      },
      "source": [
        "class Student:  \n",
        "    def __init__(self):  \n",
        "        print(\"The First Constructor\")  \n",
        "    def __init__(self):  \n",
        "        print(\"The second contructor\")  \n",
        "  \n",
        "st = Student()  "
      ],
      "execution_count": null,
      "outputs": [
        {
          "output_type": "stream",
          "text": [
            "The second contructor\n"
          ],
          "name": "stdout"
        }
      ]
    },
    {
      "cell_type": "markdown",
      "metadata": {
        "id": "f9pKcK0JpbI7",
        "colab_type": "text"
      },
      "source": [
        "In the above code, the object st called the second constructor whereas both have the same configuration. The first method is not accessible by the st object. Internally, the object of the class will always call the last constructor if the class has multiple constructors."
      ]
    },
    {
      "cell_type": "markdown",
      "metadata": {
        "id": "CnKTY8IepdXO",
        "colab_type": "text"
      },
      "source": [
        "**Note: The constructor overloading is not allowed in Python.**"
      ]
    },
    {
      "cell_type": "markdown",
      "metadata": {
        "id": "k2nMJYsEprZA",
        "colab_type": "text"
      },
      "source": [
        "**Python Inheritance**"
      ]
    },
    {
      "cell_type": "markdown",
      "metadata": {
        "id": "Me4srdd84k-n",
        "colab_type": "text"
      },
      "source": [
        "Inheritance is an important aspect of the object-oriented paradigm. Inheritance provides code reusability to the program because we can use an existing class to create a new class instead of creating it from scratch.\n",
        "\n",
        "In inheritance, the child class acquires the properties and can access all the data members and functions defined in the parent class. A child class can also provide its specific implementation to the functions of the parent class. In this section of the tutorial, we will discuss inheritance in detail.\n",
        "\n",
        "In python, a derived class can inherit base class by just mentioning the base in the bracket after the derived class name. Consider the following syntax to inherit a base class into the derived class."
      ]
    },
    {
      "cell_type": "markdown",
      "metadata": {
        "id": "8Tkzv3xf4mU8",
        "colab_type": "text"
      },
      "source": [
        "\n",
        "\n",
        "!![Inheritance](https://drive.google.com/uc?export=view&id=1OrBVuH_599rhzHvaxdzHxlwNpmVIW3qb)\n",
        "```\n",
        "class derived-class(base class):  \n",
        "    <class-suite>\n",
        "```\n",
        "A class can inherit multiple classes by mentioning all of them inside the bracket. Consider the following syntax.\n",
        "\n",
        "\n",
        "```\n",
        "class derive-class(<base class 1>, <base class 2>, ..... <base class n>):  \n",
        "    <class - suite>   \n",
        "```\n",
        "\n",
        "\n"
      ]
    },
    {
      "cell_type": "code",
      "metadata": {
        "id": "jFpjJH7O-RYt",
        "colab_type": "code",
        "colab": {
          "base_uri": "https://localhost:8080/",
          "height": 51
        },
        "outputId": "8372be63-a521-4973-fc3a-5f003e117490"
      },
      "source": [
        "class Animal:  \n",
        "    def speak(self):  \n",
        "        print(\"Animal Speaking\")  \n",
        "#child class Dog inherits the base class Animal  \n",
        "class Dog(Animal):  \n",
        "    def bark(self):  \n",
        "        print(\"dog barking\")  \n",
        "d = Dog()  \n",
        "d.bark()  \n",
        "d.speak()  "
      ],
      "execution_count": null,
      "outputs": [
        {
          "output_type": "stream",
          "text": [
            "dog barking\n",
            "Animal Speaking\n"
          ],
          "name": "stdout"
        }
      ]
    },
    {
      "cell_type": "markdown",
      "metadata": {
        "id": "lCgQWXDQ-Zic",
        "colab_type": "text"
      },
      "source": [
        "**Python Multi-Level inheritance**"
      ]
    },
    {
      "cell_type": "markdown",
      "metadata": {
        "id": "U0AYCAyM-cbL",
        "colab_type": "text"
      },
      "source": [
        "Multi-Level inheritance is possible in python like other object-oriented languages. Multi-level inheritance is archived when a derived class inherits another derived class. There is no limit on the number of levels up to which, the multi-level inheritance is archived in python.\n",
        "!![Inheritance](https://drive.google.com/uc?export=view&id=17OZWBiEZbnh6eJe4VEWrhLlIO4KuvbCY)\n",
        "\n",
        "**Syntex**\n",
        "\n",
        "```\n",
        "class class1:  \n",
        "    <class-suite>   \n",
        "class class2(class1):  \n",
        "    <class suite>  \n",
        "class class3(class2):  \n",
        "    <class suite>  \n",
        ".  \n",
        ".  \n",
        "```\n",
        "\n",
        "\n",
        "\n"
      ]
    },
    {
      "cell_type": "code",
      "metadata": {
        "id": "qVtXQ9mU-yTd",
        "colab_type": "code",
        "colab": {
          "base_uri": "https://localhost:8080/",
          "height": 68
        },
        "outputId": "8e9110ea-1966-4230-c1df-f7fc42061c50"
      },
      "source": [
        "class Animal:  \n",
        "    def speak(self):  \n",
        "        print(\"Animal Speaking\")  \n",
        "#The child class Dog inherits the base class Animal  \n",
        "class Dog(Animal):  \n",
        "    def bark(self):  \n",
        "        print(\"dog barking\")  \n",
        "#The child class Dogchild inherits another child class Dog  \n",
        "class DogChild(Dog):  \n",
        "    def eat(self):  \n",
        "        print(\"Eating bread...\")  \n",
        "d = DogChild()  \n",
        "d.bark()  \n",
        "d.speak()  \n",
        "d.eat()  "
      ],
      "execution_count": null,
      "outputs": [
        {
          "output_type": "stream",
          "text": [
            "dog barking\n",
            "Animal Speaking\n",
            "Eating bread...\n"
          ],
          "name": "stdout"
        }
      ]
    },
    {
      "cell_type": "markdown",
      "metadata": {
        "id": "KGKu_HDJ-5T1",
        "colab_type": "text"
      },
      "source": [
        "**Python Multiple inheritance**"
      ]
    },
    {
      "cell_type": "markdown",
      "metadata": {
        "id": "a1A3iQ2u-7ix",
        "colab_type": "text"
      },
      "source": [
        "Python provides us the flexibility to inherit multiple base classes in the child class.\n",
        "\n",
        "image\n",
        "\n",
        "**Syntax**\n",
        "\n",
        "\n",
        "```\n",
        "class Base1:  \n",
        "    <class-suite>  \n",
        "  \n",
        "class Base2:  \n",
        "    <class-suite>  \n",
        ".  \n",
        ".  \n",
        ".  \n",
        "class BaseN:  \n",
        "    <class-suite>  \n",
        "  \n",
        "class Derived(Base1, Base2, ...... BaseN):  \n",
        "    <class-suite>  \n",
        "```\n",
        "\n",
        "!![Inheritance](https://drive.google.com/uc?export=view&id=14_jP-PXJiyBc-2lQADbu252YRFCq8sLH)\n"
      ]
    },
    {
      "cell_type": "code",
      "metadata": {
        "id": "m-G_wH5__JpV",
        "colab_type": "code",
        "colab": {
          "base_uri": "https://localhost:8080/",
          "height": 68
        },
        "outputId": "8d53c7bb-14eb-4c4a-b576-2fc31a788c65"
      },
      "source": [
        "class Calculation1:  \n",
        "    def Summation(self,a,b):  \n",
        "        return a+b;  \n",
        "class Calculation2:  \n",
        "    def Multiplication(self,a,b):  \n",
        "        return a*b;  \n",
        "class Derived(Calculation1,Calculation2):  \n",
        "    def Divide(self,a,b):  \n",
        "        return a/b;  \n",
        "d = Derived()  \n",
        "print(d.Summation(10,20))  \n",
        "print(d.Multiplication(10,20))  \n",
        "print(d.Divide(10,20))  "
      ],
      "execution_count": null,
      "outputs": [
        {
          "output_type": "stream",
          "text": [
            "30\n",
            "200\n",
            "0.5\n"
          ],
          "name": "stdout"
        }
      ]
    },
    {
      "cell_type": "markdown",
      "metadata": {
        "id": "OuCS41-z_UQu",
        "colab_type": "text"
      },
      "source": [
        "**The issubclass(sub,sup) method**"
      ]
    },
    {
      "cell_type": "markdown",
      "metadata": {
        "id": "-Sv53J_K_Zmf",
        "colab_type": "text"
      },
      "source": [
        "The issubclass(sub, sup) method is used to check the relationships between the specified classes. It returns true if the first class is the subclass of the second class, and false otherwise.\n",
        "\n",
        "Consider the following example."
      ]
    },
    {
      "cell_type": "code",
      "metadata": {
        "id": "gBRT2U-z_cjy",
        "colab_type": "code",
        "colab": {
          "base_uri": "https://localhost:8080/",
          "height": 51
        },
        "outputId": "967f9a54-50ab-4d58-dc90-bebd9c40b43e"
      },
      "source": [
        "class Calculation1:  \n",
        "    def Summation(self,a,b):  \n",
        "        return a+b;  \n",
        "class Calculation2:  \n",
        "    def Multiplication(self,a,b):  \n",
        "        return a*b;  \n",
        "class Derived(Calculation1,Calculation2):  \n",
        "    def Divide(self,a,b):  \n",
        "        return a/b;  \n",
        "d = Derived()  \n",
        "print(issubclass(Derived,Calculation2))  \n",
        "print(issubclass(Calculation1,Calculation2))  "
      ],
      "execution_count": null,
      "outputs": [
        {
          "output_type": "stream",
          "text": [
            "True\n",
            "False\n"
          ],
          "name": "stdout"
        }
      ]
    },
    {
      "cell_type": "markdown",
      "metadata": {
        "id": "nAVZeavr_mJ3",
        "colab_type": "text"
      },
      "source": [
        "**The isinstance (obj, class) method**"
      ]
    },
    {
      "cell_type": "markdown",
      "metadata": {
        "id": "1xfKwQgn_ocb",
        "colab_type": "text"
      },
      "source": [
        "The isinstance() method is used to check the relationship between the objects and classes. It returns true if the first parameter, i.e., obj is the instance of the second parameter, i.e., class.\n",
        "\n",
        "Consider the following example."
      ]
    },
    {
      "cell_type": "code",
      "metadata": {
        "id": "rnscmnwb_sBg",
        "colab_type": "code",
        "colab": {
          "base_uri": "https://localhost:8080/",
          "height": 34
        },
        "outputId": "5486e881-3a62-4621-bcfc-3aa0f4a7c2cd"
      },
      "source": [
        "class Calculation1:  \n",
        "    def Summation(self,a,b):  \n",
        "        return a+b;  \n",
        "class Calculation2:  \n",
        "    def Multiplication(self,a,b):  \n",
        "        return a*b;  \n",
        "class Derived(Calculation1,Calculation2):  \n",
        "    def Divide(self,a,b):  \n",
        "        return a/b;  \n",
        "d = Derived()  \n",
        "print(isinstance(d,Derived))  "
      ],
      "execution_count": null,
      "outputs": [
        {
          "output_type": "stream",
          "text": [
            "True\n"
          ],
          "name": "stdout"
        }
      ]
    },
    {
      "cell_type": "markdown",
      "metadata": {
        "id": "qcE6HiUu_yU-",
        "colab_type": "text"
      },
      "source": [
        "**Method Overriding**"
      ]
    },
    {
      "cell_type": "markdown",
      "metadata": {
        "id": "atXV1joQ_00g",
        "colab_type": "text"
      },
      "source": [
        "We can provide some specific implementation of the parent class method in our child class. When the parent class method is defined in the child class with some specific implementation, then the concept is called method overriding. We may need to perform method overriding in the scenario where the different definition of a parent class method is needed in the child class.\n",
        "\n",
        "Consider the following example to perform method overriding in python."
      ]
    },
    {
      "cell_type": "code",
      "metadata": {
        "id": "VjZQ68Ij_3fx",
        "colab_type": "code",
        "colab": {
          "base_uri": "https://localhost:8080/",
          "height": 34
        },
        "outputId": "68e506e2-a662-4106-877e-1bfb5adb8e24"
      },
      "source": [
        "class Animal:  \n",
        "    def speak(self):  \n",
        "        print(\"speaking\")  \n",
        "class Dog(Animal):  \n",
        "    def speak(self):  \n",
        "        print(\"Barking\")  \n",
        "d = Dog()  \n",
        "d.speak()  "
      ],
      "execution_count": null,
      "outputs": [
        {
          "output_type": "stream",
          "text": [
            "Barking\n"
          ],
          "name": "stdout"
        }
      ]
    },
    {
      "cell_type": "markdown",
      "metadata": {
        "id": "WIALRvsEABHF",
        "colab_type": "text"
      },
      "source": [
        "**Real Life Example of method overriding**"
      ]
    },
    {
      "cell_type": "code",
      "metadata": {
        "id": "J9RrFYZVBpB3",
        "colab_type": "code",
        "colab": {
          "base_uri": "https://localhost:8080/",
          "height": 68
        },
        "outputId": "b1cc0ac4-b936-46bd-ce07-82cdabd93459"
      },
      "source": [
        "class Bank:  \n",
        "    def getroi(self):  \n",
        "        return 10;  \n",
        "class SBI(Bank):  \n",
        "    def getroi(self):  \n",
        "        return 7;  \n",
        "  \n",
        "class ICICI(Bank):  \n",
        "    def getroi(self):  \n",
        "        return 8;  \n",
        "b1 = Bank()  \n",
        "b2 = SBI()  \n",
        "b3 = ICICI()  \n",
        "print(\"Bank Rate of interest:\",b1.getroi());  \n",
        "print(\"SBI Rate of interest:\",b2.getroi());  \n",
        "print(\"ICICI Rate of interest:\",b3.getroi());  "
      ],
      "execution_count": null,
      "outputs": [
        {
          "output_type": "stream",
          "text": [
            "Bank Rate of interest: 10\n",
            "SBI Rate of interest: 7\n",
            "ICICI Rate of interest: 8\n"
          ],
          "name": "stdout"
        }
      ]
    }
  ]
}