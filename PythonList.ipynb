{
  "nbformat": 4,
  "nbformat_minor": 0,
  "metadata": {
    "colab": {
      "name": "PythonList.ipynb",
      "provenance": [],
      "collapsed_sections": [],
      "include_colab_link": true
    },
    "kernelspec": {
      "name": "python3",
      "display_name": "Python 3"
    }
  },
  "cells": [
    {
      "cell_type": "markdown",
      "metadata": {
        "id": "view-in-github",
        "colab_type": "text"
      },
      "source": [
        "<a href=\"https://colab.research.google.com/github/rekha364/Python/blob/master/PythonList.ipynb\" target=\"_parent\"><img src=\"https://colab.research.google.com/assets/colab-badge.svg\" alt=\"Open In Colab\"/></a>"
      ]
    },
    {
      "cell_type": "markdown",
      "metadata": {
        "id": "_EMyOh-ulUUx",
        "colab_type": "text"
      },
      "source": [
        "A list object is mutable in Python. Python list is sequences; Each list item is assigned to its position or index. Python list is the most widely used data structure, and a good understanding of list operations is necessary. This Python list exercise aims to help developers to learn and practice list operations to improve understanding of the Python list. All questions are tested on Python 3."
      ]
    },
    {
      "cell_type": "markdown",
      "metadata": {
        "id": "SXZstmOZly6I",
        "colab_type": "text"
      },
      "source": [
        "1.Concatenate two lists index-wise\n",
        "\n",
        "list1 = [\"M\", \"na\", \"i\", \"Ke\"] \n",
        "\n",
        "list2 = [\"y\", \"me\", \"s\", \"lly\"]\n",
        "\n",
        "Expected output:\n",
        "\n",
        "['My', 'name', 'is', 'Kelly']"
      ]
    },
    {
      "cell_type": "code",
      "metadata": {
        "id": "FRJpuECAlWoy",
        "colab_type": "code",
        "colab": {}
      },
      "source": [
        "\n",
        "\n",
        "#Solution:\n",
        "\n",
        "#We need to use list comprehension and zip() function as follows\n",
        "\n",
        "list1 = [\"M\", \"na\", \"i\", \"Ke\"] \n",
        "list2 = [\"y\", \"me\", \"s\", \"lly\"]\n",
        "list3 = [i + j for i, j in zip(list1, list2)]\n",
        "print(list3)\n",
        "\n",
        "\n",
        "\n",
        "\n",
        "\n",
        "\n",
        "\n",
        "\n",
        "\n",
        "\n",
        "\n"
      ],
      "execution_count": null,
      "outputs": []
    },
    {
      "cell_type": "markdown",
      "metadata": {
        "id": "i0U_I9AlmyMK",
        "colab_type": "text"
      },
      "source": [
        "2.Given a Python list. Turn every item of a list into its square\n",
        "\n",
        "aList = [1, 2, 3, 4, 5, 6, 7]\n",
        "\n",
        "Expected output:\n",
        "\n",
        "[1, 4, 9, 16, 25, 36, 49]"
      ]
    },
    {
      "cell_type": "code",
      "metadata": {
        "id": "t0URBjiVoWV0",
        "colab_type": "code",
        "colab": {
          "base_uri": "https://localhost:8080/",
          "height": 34
        },
        "outputId": "c84e0e7e-ee90-4a8f-9782-9aab189752cd"
      },
      "source": [
        "#solution\n",
        "\n",
        "#we need to use list comprehension\n",
        "\n",
        "aList = [1, 2, 3, 4, 5, 6, 7]\n",
        "aList =  [x * x for x in aList]\n",
        "print(aList)\n",
        "\n",
        "\n",
        "\n",
        "\n",
        "\n",
        "\n",
        "\n",
        "\n",
        "\n",
        "\n",
        "\n",
        "\n",
        "\n",
        "\n",
        "\n",
        "\n"
      ],
      "execution_count": 1,
      "outputs": [
        {
          "output_type": "stream",
          "text": [
            "[1, 4, 9, 16, 25, 36, 49]\n"
          ],
          "name": "stdout"
        }
      ]
    },
    {
      "cell_type": "markdown",
      "metadata": {
        "id": "8fEGusBppI0K",
        "colab_type": "text"
      },
      "source": [
        "3.Given a two Python list. Iterate both lists simultaneously such that list1 should display item in original order and list2 in reverse order\n",
        "\n",
        "list1 = [10, 20, 30, 40]\n",
        "\n",
        "list2 = [100, 200, 300, 400]\n",
        "\n",
        "Expected output:\n",
        "\n",
        "10 400\n",
        "\n",
        "20 300\n",
        "\n",
        "30 200\n",
        "\n",
        "40 100"
      ]
    },
    {
      "cell_type": "code",
      "metadata": {
        "id": "O2iQq9bOpr7p",
        "colab_type": "code",
        "colab": {}
      },
      "source": [
        "\n",
        "#Solution:\n",
        "#We need to use the zip() function here.\n",
        "\n",
        "list1 = [10, 20, 30, 40]\n",
        "list2 = [100, 200, 300, 400]\n",
        "\n",
        "for x, y in zip(list1, list2[::-1]):\n",
        "    print(x, y)\n",
        "\n",
        "\n",
        "\n",
        "\n",
        "\n",
        "\n",
        "\n",
        "\n",
        "\n",
        "\n",
        "\n",
        "\n",
        "\n"
      ],
      "execution_count": null,
      "outputs": []
    },
    {
      "cell_type": "markdown",
      "metadata": {
        "id": "TFhXC29jqVKS",
        "colab_type": "text"
      },
      "source": [
        "4.Given a Python list, remove all occurrence of 20 from the list\n",
        "\n",
        "list1 = [5, 20, 15, 20, 25, 50, 20]\n",
        "\n",
        "Expected output:\n",
        "\n",
        "[5, 15, 25, 50]"
      ]
    },
    {
      "cell_type": "code",
      "metadata": {
        "id": "rNGRDdf8qbk5",
        "colab_type": "code",
        "colab": {}
      },
      "source": [
        "\n",
        "#Solution:\n",
        "\n",
        "#Use the list comprehension\n",
        "\n",
        "list1 = [5, 20, 15, 20, 25, 50, 20]\n",
        "\n",
        "def removeValue(sampleList, val):\n",
        "   return [value for value in sampleList if value != val]\n",
        "resList = removeValue(list1, 20)\n",
        "print(resList)\n",
        "\n",
        "\n",
        "\n",
        "\n",
        "\n",
        "\n",
        "\n",
        "\n",
        "\n",
        "\n"
      ],
      "execution_count": null,
      "outputs": []
    }
  ]
}