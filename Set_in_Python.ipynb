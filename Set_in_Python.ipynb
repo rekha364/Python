{
  "nbformat": 4,
  "nbformat_minor": 0,
  "metadata": {
    "colab": {
      "name": "Set in Python.ipynb",
      "provenance": [],
      "include_colab_link": true
    },
    "kernelspec": {
      "name": "python3",
      "display_name": "Python 3"
    }
  },
  "cells": [
    {
      "cell_type": "markdown",
      "metadata": {
        "id": "view-in-github",
        "colab_type": "text"
      },
      "source": [
        "<a href=\"https://colab.research.google.com/github/rekha364/Python/blob/master/Set_in_Python.ipynb\" target=\"_parent\"><img src=\"https://colab.research.google.com/assets/colab-badge.svg\" alt=\"Open In Colab\"/></a>"
      ]
    },
    {
      "cell_type": "markdown",
      "metadata": {
        "id": "HjDjy6jrKq74",
        "colab_type": "text"
      },
      "source": [
        "**Set**"
      ]
    },
    {
      "cell_type": "markdown",
      "metadata": {
        "id": "BuXmUUWkKw-q",
        "colab_type": "text"
      },
      "source": [
        "A set is a collection which is unordered and unindexed. In Python sets are written with curly brackets."
      ]
    },
    {
      "cell_type": "markdown",
      "metadata": {
        "id": "VgumfS3CK1Ta",
        "colab_type": "text"
      },
      "source": [
        "Create a Set:"
      ]
    },
    {
      "cell_type": "code",
      "metadata": {
        "id": "it5gIwAzK5XL",
        "colab_type": "code",
        "colab": {
          "base_uri": "https://localhost:8080/",
          "height": 34
        },
        "outputId": "e4a4b831-daf8-4e66-f3b3-28a4becf279d"
      },
      "source": [
        "set_example = {\"python\", \"machine learning\", \"data science\"}\n",
        "print(set_example)"
      ],
      "execution_count": null,
      "outputs": [
        {
          "output_type": "stream",
          "text": [
            "{'python', 'data science', 'machine learning'}\n"
          ],
          "name": "stdout"
        }
      ]
    },
    {
      "cell_type": "markdown",
      "metadata": {
        "id": "aBmAK1NWLS1c",
        "colab_type": "text"
      },
      "source": [
        "**Note**: Sets are unordered, so we cannot be sure in which order the items will appear.\n",
        "\n"
      ]
    },
    {
      "cell_type": "markdown",
      "metadata": {
        "id": "NdEl7sWBLVzy",
        "colab_type": "text"
      },
      "source": [
        "We cannot access items in a set by referring to an index, since sets are unordered the items has no index.\n",
        "\n",
        "But we can loop through the set items using a for loop, or ask if a specified value is present in a set, by using the in keyword."
      ]
    },
    {
      "cell_type": "markdown",
      "metadata": {
        "id": "-lD3yiojMC2e",
        "colab_type": "text"
      },
      "source": [
        "Loop through the set, and print the values:"
      ]
    },
    {
      "cell_type": "code",
      "metadata": {
        "id": "WKbpDCGNMFVF",
        "colab_type": "code",
        "colab": {
          "base_uri": "https://localhost:8080/",
          "height": 122
        },
        "outputId": "9396383a-0f6a-4cc7-a7a1-93a4d1b41744"
      },
      "source": [
        "set_example = {\"python\", \"machine learning\", \"data science\"}\n",
        "for course in set_example:\n",
        "  print(\"Course\\n\",course)"
      ],
      "execution_count": 1,
      "outputs": [
        {
          "output_type": "stream",
          "text": [
            "Course\n",
            " python\n",
            "Course\n",
            " machine learning\n",
            "Course\n",
            " data science\n"
          ],
          "name": "stdout"
        }
      ]
    },
    {
      "cell_type": "markdown",
      "metadata": {
        "id": "U3pnr9YNOJkE",
        "colab_type": "text"
      },
      "source": [
        "Check if element is present in the set:"
      ]
    },
    {
      "cell_type": "code",
      "metadata": {
        "id": "qhEl1kjzONMD",
        "colab_type": "code",
        "colab": {
          "base_uri": "https://localhost:8080/",
          "height": 34
        },
        "outputId": "6355bbb2-fe74-48be-d763-fc8a0413cecf"
      },
      "source": [
        "print(\"python\" in set_example)"
      ],
      "execution_count": null,
      "outputs": [
        {
          "output_type": "stream",
          "text": [
            "True\n"
          ],
          "name": "stdout"
        }
      ]
    },
    {
      "cell_type": "markdown",
      "metadata": {
        "id": "euGY2iA5OZSb",
        "colab_type": "text"
      },
      "source": [
        "**Change Items**\n",
        "\n",
        "\n",
        "Once a set is created, you cannot change its items, but you can add new items."
      ]
    },
    {
      "cell_type": "markdown",
      "metadata": {
        "id": "vn6tHDo8O5qB",
        "colab_type": "text"
      },
      "source": [
        "**Add Items**"
      ]
    },
    {
      "cell_type": "markdown",
      "metadata": {
        "id": "O2xUxqfLOisg",
        "colab_type": "text"
      },
      "source": [
        "* To add one item to a set use the add() method.\n",
        "\n",
        "* To add more than one item to a set use the update() method."
      ]
    },
    {
      "cell_type": "code",
      "metadata": {
        "id": "NF4pGmL6Op5L",
        "colab_type": "code",
        "colab": {
          "base_uri": "https://localhost:8080/",
          "height": 34
        },
        "outputId": "8315649b-f16e-46f6-bfb2-414bf15b850c"
      },
      "source": [
        "set_example.add(\"deep learning\")\n",
        "print(set_example)"
      ],
      "execution_count": null,
      "outputs": [
        {
          "output_type": "stream",
          "text": [
            "{'python', 'data science', 'deep learning', 'machine learning'}\n"
          ],
          "name": "stdout"
        }
      ]
    },
    {
      "cell_type": "code",
      "metadata": {
        "id": "o57qTxQSPPrB",
        "colab_type": "code",
        "colab": {
          "base_uri": "https://localhost:8080/",
          "height": 34
        },
        "outputId": "0ab69164-78af-4303-cc7b-f92ca3593038"
      },
      "source": [
        "set_example.update([\"NLP\", \"Computer Vision\", \"Big DATA\"])\n",
        "print(set_example)"
      ],
      "execution_count": null,
      "outputs": [
        {
          "output_type": "stream",
          "text": [
            "{'Computer Vision', 'Big DATA', 'python', 'data science', 'deep learning', 'NLP', 'machine learning'}\n"
          ],
          "name": "stdout"
        }
      ]
    },
    {
      "cell_type": "code",
      "metadata": {
        "id": "etdtQRz3PfUF",
        "colab_type": "code",
        "colab": {}
      },
      "source": [
        ""
      ],
      "execution_count": null,
      "outputs": []
    },
    {
      "cell_type": "markdown",
      "metadata": {
        "id": "xeq_rLS5PimO",
        "colab_type": "text"
      },
      "source": [
        "**Get the Length of a Set**"
      ]
    },
    {
      "cell_type": "markdown",
      "metadata": {
        "id": "GFBQBz8APkTc",
        "colab_type": "text"
      },
      "source": [
        "To determine how many items a set has, use the len() method."
      ]
    },
    {
      "cell_type": "code",
      "metadata": {
        "id": "JzEwUxFmPnR8",
        "colab_type": "code",
        "colab": {
          "base_uri": "https://localhost:8080/",
          "height": 34
        },
        "outputId": "02a63258-9340-4bc5-90a8-606af884d65d"
      },
      "source": [
        "print(len(set_example))"
      ],
      "execution_count": null,
      "outputs": [
        {
          "output_type": "stream",
          "text": [
            "7\n"
          ],
          "name": "stdout"
        }
      ]
    },
    {
      "cell_type": "markdown",
      "metadata": {
        "id": "-zzSr6VsaDYH",
        "colab_type": "text"
      },
      "source": [
        "**Remove Item**\n",
        "\n",
        "To remove an item in a set, use the remove(), or the discard() method."
      ]
    },
    {
      "cell_type": "code",
      "metadata": {
        "id": "e1Amnn2QaMBY",
        "colab_type": "code",
        "colab": {
          "base_uri": "https://localhost:8080/",
          "height": 34
        },
        "outputId": "9b39667a-945a-4487-d48b-153cf8be0ec8"
      },
      "source": [
        "#Remove \"Big DATA\" by using the remove() method:\n",
        "set_example.remove(\"Big DATA\")\n",
        "print(set_example)"
      ],
      "execution_count": null,
      "outputs": [
        {
          "output_type": "stream",
          "text": [
            "{'Computer Vision', 'python', 'data science', 'deep learning', 'NLP', 'machine learning'}\n"
          ],
          "name": "stdout"
        }
      ]
    },
    {
      "cell_type": "code",
      "metadata": {
        "id": "gAaYA-hIacI6",
        "colab_type": "code",
        "colab": {
          "base_uri": "https://localhost:8080/",
          "height": 34
        },
        "outputId": "ee93520f-4b25-4a20-f7b3-1c44f06f06b0"
      },
      "source": [
        "#Remove \"Computer Vision\" by using the discard() method:\n",
        "set_example.discard(\"Computer Vision\")\n",
        "print(set_example)"
      ],
      "execution_count": null,
      "outputs": [
        {
          "output_type": "stream",
          "text": [
            "{'python', 'data science', 'deep learning', 'NLP', 'machine learning'}\n"
          ],
          "name": "stdout"
        }
      ]
    },
    {
      "cell_type": "markdown",
      "metadata": {
        "id": "W4IMNPlsazah",
        "colab_type": "text"
      },
      "source": [
        "You can also use the **pop()**, method to remove an item, but this method will remove the last item. Remember that sets are unordered, so we will not know what item that gets removed.\n",
        "\n",
        "The return value of the **pop()** method is the removed item."
      ]
    },
    {
      "cell_type": "code",
      "metadata": {
        "id": "SCVOxjO0a7Hv",
        "colab_type": "code",
        "colab": {
          "base_uri": "https://localhost:8080/",
          "height": 51
        },
        "outputId": "cfa95bcf-5558-4e54-bb5b-23fbf5eb0224"
      },
      "source": [
        "\n",
        "x = set_example.pop()\n",
        "\n",
        "print(x)\n",
        "\n",
        "print(set_example)"
      ],
      "execution_count": null,
      "outputs": [
        {
          "output_type": "stream",
          "text": [
            "python\n",
            "{'data science', 'deep learning', 'NLP', 'machine learning'}\n"
          ],
          "name": "stdout"
        }
      ]
    },
    {
      "cell_type": "markdown",
      "metadata": {
        "id": "RABIt_5AbKTd",
        "colab_type": "text"
      },
      "source": [
        "**Empties set using clear() method.**"
      ]
    },
    {
      "cell_type": "code",
      "metadata": {
        "id": "Eb4VY8K4b0CA",
        "colab_type": "code",
        "colab": {
          "base_uri": "https://localhost:8080/",
          "height": 51
        },
        "outputId": "bb5111ad-3eb6-4fc9-9d0d-ee0be188e976"
      },
      "source": [
        "set_example_1 = {10,20,30,40}\n",
        "print(set_example_1)\n",
        "set_example_1.clear()\n",
        "print(set_example_1)"
      ],
      "execution_count": null,
      "outputs": [
        {
          "output_type": "stream",
          "text": [
            "{40, 10, 20, 30}\n",
            "set()\n"
          ],
          "name": "stdout"
        }
      ]
    },
    {
      "cell_type": "markdown",
      "metadata": {
        "id": "s9aDdqbSb4JI",
        "colab_type": "text"
      },
      "source": [
        "**Delete set using del keyword**"
      ]
    },
    {
      "cell_type": "code",
      "metadata": {
        "id": "9_NTepJXcAWh",
        "colab_type": "code",
        "colab": {
          "base_uri": "https://localhost:8080/",
          "height": 34
        },
        "outputId": "26abdb84-df3f-4acb-dc9d-ac2c18f1f0d0"
      },
      "source": [
        "set_example_2 = {10,20,30,40}\n",
        "print(set_example_2)\n",
        "del set_example_2\n"
      ],
      "execution_count": null,
      "outputs": [
        {
          "output_type": "stream",
          "text": [
            "{40, 10, 20, 30}\n"
          ],
          "name": "stdout"
        }
      ]
    },
    {
      "cell_type": "markdown",
      "metadata": {
        "id": "CO4Ljnh1cpuQ",
        "colab_type": "text"
      },
      "source": [
        "**Join Two Sets**\n",
        "\n",
        "There are several ways to join two or more sets in Python.\n",
        "\n",
        "We can use the union() method that returns a new set containing all items from both sets, or the update() method that inserts all the items from one set into another:"
      ]
    },
    {
      "cell_type": "markdown",
      "metadata": {
        "id": "IwVR6WifczkA",
        "colab_type": "text"
      },
      "source": [
        "The **union()** method returns a new set with all items from both sets:"
      ]
    },
    {
      "cell_type": "code",
      "metadata": {
        "id": "1P2rVLtNc16f",
        "colab_type": "code",
        "colab": {
          "base_uri": "https://localhost:8080/",
          "height": 34
        },
        "outputId": "a9ce1d77-eca8-4979-f7c2-0f0f4140a78c"
      },
      "source": [
        "set1 = {\"a\", \"b\" , \"c\"}\n",
        "set2 = {1, 2, 3}\n",
        "\n",
        "set3 = set1.union(set2)\n",
        "print(set3)"
      ],
      "execution_count": null,
      "outputs": [
        {
          "output_type": "stream",
          "text": [
            "{1, 2, 'a', 3, 'c', 'b'}\n"
          ],
          "name": "stdout"
        }
      ]
    },
    {
      "cell_type": "markdown",
      "metadata": {
        "id": "oomwtt_5c7qS",
        "colab_type": "text"
      },
      "source": [
        "The **update(**) method inserts the items in set2 into set1:"
      ]
    },
    {
      "cell_type": "code",
      "metadata": {
        "id": "8VUq4Btlc9lz",
        "colab_type": "code",
        "colab": {
          "base_uri": "https://localhost:8080/",
          "height": 34
        },
        "outputId": "fd140c91-b1f6-421a-b0ef-27197244dc84"
      },
      "source": [
        "set1 = {\"a\", \"b\" , \"c\"}\n",
        "set2 = {1, 2, 3}\n",
        "\n",
        "set1.update(set2)\n",
        "print(set1)"
      ],
      "execution_count": null,
      "outputs": [
        {
          "output_type": "stream",
          "text": [
            "{1, 2, 'a', 3, 'c', 'b'}\n"
          ],
          "name": "stdout"
        }
      ]
    },
    {
      "cell_type": "markdown",
      "metadata": {
        "id": "wMn5M_7xdDuK",
        "colab_type": "text"
      },
      "source": [
        "**Note**: Both union() and update() will exclude any duplicate items."
      ]
    },
    {
      "cell_type": "markdown",
      "metadata": {
        "id": "9ehXm0pRdJ3-",
        "colab_type": "text"
      },
      "source": [
        "**The set() Constructor**\n",
        "\n",
        "Using the set() constructor to make a set:"
      ]
    },
    {
      "cell_type": "code",
      "metadata": {
        "id": "pYU-8wTsdRuo",
        "colab_type": "code",
        "colab": {
          "base_uri": "https://localhost:8080/",
          "height": 34
        },
        "outputId": "003163a5-c9e0-47dc-8b1f-58453f6fdd8b"
      },
      "source": [
        "set_example_3 = set((\"ml\",\"ds\",\"nlp\"))\n",
        "print(set_example_3)"
      ],
      "execution_count": null,
      "outputs": [
        {
          "output_type": "stream",
          "text": [
            "{'nlp', 'ds', 'ml'}\n"
          ],
          "name": "stdout"
        }
      ]
    },
    {
      "cell_type": "markdown",
      "metadata": {
        "id": "iLYq_J-5hveL",
        "colab_type": "text"
      },
      "source": [
        "**Set v/s Dictionary**\n",
        "\n",
        "Sets are different in the sense that order does not matter and these will be used in cases where order does not matter.\n",
        "\n",
        "Sets are especially useful when you need to ensure that an item only appears once in the set.\n",
        "\n",
        "Dictionaries are used to store key, value pairs and are used when you want to easily find a value using a key, just like in a dictionary.\n",
        "\n",
        "For example, you could store a list of items and links to more information about these items in a dictionary."
      ]
    }
  ]
}